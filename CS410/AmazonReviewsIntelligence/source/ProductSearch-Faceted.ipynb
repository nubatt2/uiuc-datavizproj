{
 "cells": [
  {
   "cell_type": "markdown",
   "metadata": {},
   "source": [
    "### Faceted Product Search\n",
    "This is a demo of product search scenario based on facets (topics) mined from Amazon reviews.<br/>\n",
    "\n",
    "Following demo is based on a subset of data from the following dataset <br/>\n",
    "https://s3.amazonaws.com/amazon-reviews-pds/tsv/amazon_reviews_us_Electronics_v1_00.tsv.gz\n",
    "\n",
    "This demo used metapy library to build, host & query from inverted index [https://github.com/meta-toolkit/metapy](https://github.com/meta-toolkit/metapy)"
   ]
  },
  {
   "cell_type": "code",
   "execution_count": 25,
   "metadata": {},
   "outputs": [],
   "source": [
    "import pandas as pd\n",
    "\n",
    "import math\n",
    "import metapy\n",
    "import pytoml\n",
    "import re"
   ]
  },
  {
   "cell_type": "markdown",
   "metadata": {},
   "source": [
    "### Build Index\n",
    "- We indexed mined topics, goal is to do faceted search. instead of title search\n",
    "- Uses inbuilt BM25 ranker using default hyper parameters"
   ]
  },
  {
   "cell_type": "code",
   "execution_count": 32,
   "metadata": {},
   "outputs": [],
   "source": [
    "config_file = 'config.toml'\n",
    "index = metapy.index.make_inverted_index(config_file)\n",
    "ranker = metapy.index.OkapiBM25()"
   ]
  },
  {
   "cell_type": "markdown",
   "metadata": {},
   "source": [
    "### Load Product metadata"
   ]
  },
  {
   "cell_type": "code",
   "execution_count": 33,
   "metadata": {},
   "outputs": [],
   "source": [
    "product_meta = pd.read_json('../data/product_sentiments.product_aggregated.slim.json')"
   ]
  },
  {
   "cell_type": "markdown",
   "metadata": {},
   "source": [
    "### Query Index\n",
    "Issue few queries againt the index"
   ]
  },
  {
   "cell_type": "code",
   "execution_count": 34,
   "metadata": {},
   "outputs": [],
   "source": [
    "sample_query = 'best noise cancelling'\n",
    "index_query = metapy.index.Document()\n",
    "index_query.content(sample_query)"
   ]
  },
  {
   "cell_type": "code",
   "execution_count": 37,
   "metadata": {},
   "outputs": [],
   "source": [
    "top_docs = ranker.score(index, index_query, num_results=50)\n",
    "result_productids = []\n",
    "\n",
    "for num, (d_id, _) in enumerate(top_docs):\n",
    "    content = index.metadata(d_id).get('content')\n",
    "    if content is not None:\n",
    "        product_id = re.split(r'\\t+', content)[0]\n",
    "        result_productids.append(product_id)"
   ]
  },
  {
   "cell_type": "markdown",
   "metadata": {},
   "source": [
    "### Search Results for the given query"
   ]
  },
  {
   "cell_type": "code",
   "execution_count": 38,
   "metadata": {},
   "outputs": [
    {
     "data": {
      "text/html": [
       "<div>\n",
       "<style scoped>\n",
       "    .dataframe tbody tr th:only-of-type {\n",
       "        vertical-align: middle;\n",
       "    }\n",
       "\n",
       "    .dataframe tbody tr th {\n",
       "        vertical-align: top;\n",
       "    }\n",
       "\n",
       "    .dataframe thead th {\n",
       "        text-align: right;\n",
       "    }\n",
       "</style>\n",
       "<table border=\"1\" class=\"dataframe\">\n",
       "  <thead>\n",
       "    <tr style=\"text-align: right;\">\n",
       "      <th></th>\n",
       "      <th>product_id</th>\n",
       "      <th>product_title</th>\n",
       "    </tr>\n",
       "  </thead>\n",
       "  <tbody>\n",
       "    <tr>\n",
       "      <th>304</th>\n",
       "      <td>B00EWJHRMY</td>\n",
       "      <td>Bose QuietComfort 15 Acoustic Noise Cancelling Headphones - Limited Edition (Discontinued by Manufacturer)</td>\n",
       "    </tr>\n",
       "    <tr>\n",
       "      <th>232</th>\n",
       "      <td>B0094S36RI</td>\n",
       "      <td>Logitech 982-000079 UE 6000 Headphones</td>\n",
       "    </tr>\n",
       "    <tr>\n",
       "      <th>40</th>\n",
       "      <td>B000GFDC7C</td>\n",
       "      <td>Bose? QuietComfort? 3 Acoustic Noise Cancelling? Headphones</td>\n",
       "    </tr>\n",
       "    <tr>\n",
       "      <th>397</th>\n",
       "      <td>B00M1NEUA0</td>\n",
       "      <td>Bose QuietComfort 25 Headphones (wired, 3.5mm)</td>\n",
       "    </tr>\n",
       "    <tr>\n",
       "      <th>268</th>\n",
       "      <td>B00BSXRBGE</td>\n",
       "      <td>NoiseHush Active Noise-Cancelling Over-Ear Headphones - Black / Silver</td>\n",
       "    </tr>\n",
       "    <tr>\n",
       "      <th>444</th>\n",
       "      <td>B00QPHW63G</td>\n",
       "      <td>Symphonized NRG Premium Genuine Wood In-ear Noise-isolating Headphones|Earbuds|Earphones with Microphone</td>\n",
       "    </tr>\n",
       "    <tr>\n",
       "      <th>56</th>\n",
       "      <td>B000VWOL3O</td>\n",
       "      <td>Zune Premium Headphones for Zune 4GB</td>\n",
       "    </tr>\n",
       "    <tr>\n",
       "      <th>366</th>\n",
       "      <td>B00JHKSL1O</td>\n",
       "      <td>Panasonic eneloop pro NEW High Capacity Power Pack</td>\n",
       "    </tr>\n",
       "    <tr>\n",
       "      <th>359</th>\n",
       "      <td>B00IYA31AY</td>\n",
       "      <td>Powerbeats 2 Wireless In-Ear Headphone - White</td>\n",
       "    </tr>\n",
       "    <tr>\n",
       "      <th>399</th>\n",
       "      <td>B00M5A7FGU</td>\n",
       "      <td>Bose SoundTrue In-Ear Headphones</td>\n",
       "    </tr>\n",
       "  </tbody>\n",
       "</table>\n",
       "</div>"
      ],
      "text/plain": [
       "     product_id  \\\n",
       "304  B00EWJHRMY   \n",
       "232  B0094S36RI   \n",
       "40   B000GFDC7C   \n",
       "397  B00M1NEUA0   \n",
       "268  B00BSXRBGE   \n",
       "444  B00QPHW63G   \n",
       "56   B000VWOL3O   \n",
       "366  B00JHKSL1O   \n",
       "359  B00IYA31AY   \n",
       "399  B00M5A7FGU   \n",
       "\n",
       "                                                                                                  product_title  \n",
       "304  Bose QuietComfort 15 Acoustic Noise Cancelling Headphones - Limited Edition (Discontinued by Manufacturer)  \n",
       "232  Logitech 982-000079 UE 6000 Headphones                                                                      \n",
       "40   Bose? QuietComfort? 3 Acoustic Noise Cancelling? Headphones                                                 \n",
       "397  Bose QuietComfort 25 Headphones (wired, 3.5mm)                                                              \n",
       "268  NoiseHush Active Noise-Cancelling Over-Ear Headphones - Black / Silver                                      \n",
       "444  Symphonized NRG Premium Genuine Wood In-ear Noise-isolating Headphones|Earbuds|Earphones with Microphone    \n",
       "56   Zune Premium Headphones for Zune 4GB                                                                        \n",
       "366  Panasonic eneloop pro NEW High Capacity Power Pack                                                          \n",
       "359  Powerbeats 2 Wireless In-Ear Headphone - White                                                              \n",
       "399  Bose SoundTrue In-Ear Headphones                                                                            "
      ]
     },
     "execution_count": 38,
     "metadata": {},
     "output_type": "execute_result"
    }
   ],
   "source": [
    "pd.set_option('display.max_colwidth', -1)\n",
    "search_results = pd.DataFrame(columns=['product_id','product_title'])\n",
    "\n",
    "for product in result_productids:\n",
    "    product_id = str(product)\n",
    "    found_df = product_meta[product_meta['product_id'] == product_id][['product_id', 'product_title']]\n",
    "    if found_df.shape[0] > 0:\n",
    "        search_results.append(found_df[['product_id', 'product_title']])\n",
    "        search_results = pd.concat([search_results, found_df])\n",
    "    #print(found_df[['product_id', 'product_title']])\n",
    "\n",
    "search_results"
   ]
  }
 ],
 "metadata": {
  "kernelspec": {
   "display_name": "Python 3",
   "language": "python",
   "name": "python3"
  },
  "language_info": {
   "codemirror_mode": {
    "name": "ipython",
    "version": 3
   },
   "file_extension": ".py",
   "mimetype": "text/x-python",
   "name": "python",
   "nbconvert_exporter": "python",
   "pygments_lexer": "ipython3",
   "version": "3.6.5"
  }
 },
 "nbformat": 4,
 "nbformat_minor": 2
}
