{
 "cells": [
  {
   "cell_type": "markdown",
   "metadata": {},
   "source": [
    "### Faceted Product Search\n",
    "This is a demo of product search scenario based on facets (topics) mined from Amazon reviews.<br/>\n",
    "\n",
    "Following demo is based on topic modeling and indexing a subset of data from the following dataset <br/>\n",
    "https://s3.amazonaws.com/amazon-reviews-pds/tsv/amazon_reviews_us_Electronics_v1_00.tsv.gz\n",
    "\n",
    "This demo used metapy library to build, host & query from inverted index <br/>\n",
    "[https://github.com/meta-toolkit/metapy](https://github.com/meta-toolkit/metapy)"
   ]
  },
  {
   "cell_type": "code",
   "execution_count": 43,
   "metadata": {},
   "outputs": [],
   "source": [
    "import pandas as pd\n",
    "\n",
    "import metapy\n",
    "import pytoml\n",
    "import re"
   ]
  },
  {
   "cell_type": "markdown",
   "metadata": {},
   "source": [
    "### Build Index\n",
    "- We indexed mined topics, goal is to do faceted search. instead of title search\n",
    "- Uses inbuilt BM25 ranker using default hyper parameters"
   ]
  },
  {
   "cell_type": "code",
   "execution_count": 44,
   "metadata": {},
   "outputs": [],
   "source": [
    "config_file = 'config.toml'\n",
    "index = metapy.index.make_inverted_index(config_file)\n",
    "\n",
    "# user Bm25 ranker, with optional hyper params\n",
    "ranker = metapy.index.OkapiBM25()"
   ]
  },
  {
   "cell_type": "markdown",
   "metadata": {},
   "source": [
    "### Load Product metadata from sentiments feed"
   ]
  },
  {
   "cell_type": "code",
   "execution_count": 62,
   "metadata": {},
   "outputs": [],
   "source": [
    "product_meta = pd.read_json('../../data/product_sentiments.product_aggregated.slim.json')"
   ]
  },
  {
   "cell_type": "markdown",
   "metadata": {},
   "source": [
    "### Query Index\n",
    "Issue few queries againt the index"
   ]
  },
  {
   "cell_type": "code",
   "execution_count": 72,
   "metadata": {},
   "outputs": [],
   "source": [
    "sample_query = 'durable charging cables'\n",
    "#'music player with good battery'\n",
    "#'best noise cancelling head phones'\n",
    "\n",
    "#Build Index Query\n",
    "index_query = metapy.index.Document()\n",
    "index_query.content(sample_query)"
   ]
  },
  {
   "cell_type": "code",
   "execution_count": 73,
   "metadata": {},
   "outputs": [],
   "source": [
    "#Query Index and get top ranker documents\n",
    "top_docs = ranker.score(index, index_query, num_results=50)\n",
    "\n",
    "# collect product_ids\n",
    "result_productids = []\n",
    "for num, (d_id, _) in enumerate(top_docs):\n",
    "    content = index.metadata(d_id).get('content')\n",
    "    if content is not None:\n",
    "        product_id = re.split(r'\\t+', content)[0]\n",
    "        result_productids.append(product_id)"
   ]
  },
  {
   "cell_type": "markdown",
   "metadata": {},
   "source": [
    "### Search Results for the given query"
   ]
  },
  {
   "cell_type": "code",
   "execution_count": 74,
   "metadata": {},
   "outputs": [
    {
     "data": {
      "text/html": [
       "<div>\n",
       "<style scoped>\n",
       "    .dataframe tbody tr th:only-of-type {\n",
       "        vertical-align: middle;\n",
       "    }\n",
       "\n",
       "    .dataframe tbody tr th {\n",
       "        vertical-align: top;\n",
       "    }\n",
       "\n",
       "    .dataframe thead th {\n",
       "        text-align: right;\n",
       "    }\n",
       "</style>\n",
       "<table border=\"1\" class=\"dataframe\">\n",
       "  <thead>\n",
       "    <tr style=\"text-align: right;\">\n",
       "      <th></th>\n",
       "      <th>product_id</th>\n",
       "      <th>product_title</th>\n",
       "    </tr>\n",
       "  </thead>\n",
       "  <tbody>\n",
       "    <tr>\n",
       "      <th>279</th>\n",
       "      <td>B00CYXYC32</td>\n",
       "      <td>Apple USB Lightning Cable 6ft - iSmooth First Generation - Apple Lightning Compatible Cable Designed to Charge iPhone 5, iPad Mini, iPad 4th Generation</td>\n",
       "    </tr>\n",
       "    <tr>\n",
       "      <th>429</th>\n",
       "      <td>B00O850BW0</td>\n",
       "      <td>EMEMO® 3 pack! USB Lightning Cable for iPhone 6 5 5S 5C, iPad mini, iPod Nano (7th generation) iPod touch (5th Generation) - Compatible Charger Cord for Data and Syncing - 3ft Long!</td>\n",
       "    </tr>\n",
       "    <tr>\n",
       "      <th>378</th>\n",
       "      <td>B00KBFZDI8</td>\n",
       "      <td>Smart battery charger, iGrace NITECORE NEW i4 (2016 New Version) Universal Smart battery Charger for Li-ion/IMR/LiFeP04/Ni-MH/Ni-Cd with 12V Car Adapter and iGrace Battery Box</td>\n",
       "    </tr>\n",
       "    <tr>\n",
       "      <th>384</th>\n",
       "      <td>B00KW2ZDHQ</td>\n",
       "      <td>Nitecore Charger with EASTSHINE EB182 Battery Box and Car Charger</td>\n",
       "    </tr>\n",
       "    <tr>\n",
       "      <th>162</th>\n",
       "      <td>B005ILYG5Q</td>\n",
       "      <td>Sanyo NEW 1500 eneloop AA Ni-MH Pre-Charged Rechargeable Batteries</td>\n",
       "    </tr>\n",
       "    <tr>\n",
       "      <th>350</th>\n",
       "      <td>B00IHT2AUE</td>\n",
       "      <td>EBL 4c 4d batteries with charger</td>\n",
       "    </tr>\n",
       "    <tr>\n",
       "      <th>252</th>\n",
       "      <td>B00A35KPQQ</td>\n",
       "      <td>IOGEAR GearPower 11,000mAh Ultra Capacity Mobile Power Station for Smartphones/Tablets/Mobile Devices, White, GMP10K</td>\n",
       "    </tr>\n",
       "    <tr>\n",
       "      <th>179</th>\n",
       "      <td>B006OSQALU</td>\n",
       "      <td>Tenergy Advanced Universal Charger TN190 (4 Channel AA/AAA/C/D/9V Ni-MH Charger with LCD Display and USB Power Outlet)</td>\n",
       "    </tr>\n",
       "    <tr>\n",
       "      <th>366</th>\n",
       "      <td>B00JHKSL1O</td>\n",
       "      <td>Panasonic eneloop pro NEW High Capacity Power Pack</td>\n",
       "    </tr>\n",
       "    <tr>\n",
       "      <th>142</th>\n",
       "      <td>B004NSUMTO</td>\n",
       "      <td>AmazonBasics Charger with International Plug Adapters (includes 4-AA Rechargeable Batteries)</td>\n",
       "    </tr>\n",
       "    <tr>\n",
       "      <th>250</th>\n",
       "      <td>B009XGK688</td>\n",
       "      <td>Cable Matters Micro USB to HDMI Adapter for Samsung Galaxy S3/S4 and Note 2/Note 3 in Black</td>\n",
       "    </tr>\n",
       "    <tr>\n",
       "      <th>333</th>\n",
       "      <td>B00HFYLR4M</td>\n",
       "      <td>Cable Matters Micro USB SlimPort (MyDP) to HDMI 6 Foot Cable with 6 Foot USB Charging Cable</td>\n",
       "    </tr>\n",
       "    <tr>\n",
       "      <th>410</th>\n",
       "      <td>B00N5BJSWW</td>\n",
       "      <td>UL Listed- EZOPower International Wall Mount Travel Charger with 2 AC Outlet + 2 USB Port + Embedded Micro-USB Cable + Worldwide UK/US/AU/EU/JP Plug Adapter</td>\n",
       "    </tr>\n",
       "  </tbody>\n",
       "</table>\n",
       "</div>"
      ],
      "text/plain": [
       "     product_id  \\\n",
       "279  B00CYXYC32   \n",
       "429  B00O850BW0   \n",
       "378  B00KBFZDI8   \n",
       "384  B00KW2ZDHQ   \n",
       "162  B005ILYG5Q   \n",
       "350  B00IHT2AUE   \n",
       "252  B00A35KPQQ   \n",
       "179  B006OSQALU   \n",
       "366  B00JHKSL1O   \n",
       "142  B004NSUMTO   \n",
       "250  B009XGK688   \n",
       "333  B00HFYLR4M   \n",
       "410  B00N5BJSWW   \n",
       "\n",
       "                                                                                                                                                                             product_title  \n",
       "279  Apple USB Lightning Cable 6ft - iSmooth First Generation - Apple Lightning Compatible Cable Designed to Charge iPhone 5, iPad Mini, iPad 4th Generation                                \n",
       "429  EMEMO® 3 pack! USB Lightning Cable for iPhone 6 5 5S 5C, iPad mini, iPod Nano (7th generation) iPod touch (5th Generation) - Compatible Charger Cord for Data and Syncing - 3ft Long!  \n",
       "378  Smart battery charger, iGrace NITECORE NEW i4 (2016 New Version) Universal Smart battery Charger for Li-ion/IMR/LiFeP04/Ni-MH/Ni-Cd with 12V Car Adapter and iGrace Battery Box        \n",
       "384  Nitecore Charger with EASTSHINE EB182 Battery Box and Car Charger                                                                                                                      \n",
       "162  Sanyo NEW 1500 eneloop AA Ni-MH Pre-Charged Rechargeable Batteries                                                                                                                     \n",
       "350  EBL 4c 4d batteries with charger                                                                                                                                                       \n",
       "252  IOGEAR GearPower 11,000mAh Ultra Capacity Mobile Power Station for Smartphones/Tablets/Mobile Devices, White, GMP10K                                                                   \n",
       "179  Tenergy Advanced Universal Charger TN190 (4 Channel AA/AAA/C/D/9V Ni-MH Charger with LCD Display and USB Power Outlet)                                                                 \n",
       "366  Panasonic eneloop pro NEW High Capacity Power Pack                                                                                                                                     \n",
       "142  AmazonBasics Charger with International Plug Adapters (includes 4-AA Rechargeable Batteries)                                                                                           \n",
       "250  Cable Matters Micro USB to HDMI Adapter for Samsung Galaxy S3/S4 and Note 2/Note 3 in Black                                                                                            \n",
       "333  Cable Matters Micro USB SlimPort (MyDP) to HDMI 6 Foot Cable with 6 Foot USB Charging Cable                                                                                            \n",
       "410  UL Listed- EZOPower International Wall Mount Travel Charger with 2 AC Outlet + 2 USB Port + Embedded Micro-USB Cable + Worldwide UK/US/AU/EU/JP Plug Adapter                           "
      ]
     },
     "execution_count": 74,
     "metadata": {},
     "output_type": "execute_result"
    }
   ],
   "source": [
    "#Get product search results\n",
    "pd.set_option('display.max_colwidth', -1)\n",
    "search_results = pd.DataFrame(columns=['product_id','product_title'])\n",
    "\n",
    "for product in result_productids:\n",
    "    product_id = str(product)\n",
    "    found_df = product_meta[product_meta['product_id'] == product_id][['product_id', 'product_title']]\n",
    "    if found_df.shape[0] > 0:\n",
    "        search_results.append(found_df[['product_id', 'product_title']])\n",
    "        search_results = pd.concat([search_results, found_df])\n",
    "    #print(found_df[['product_id', 'product_title']])\n",
    "\n",
    "search_results"
   ]
  },
  {
   "cell_type": "code",
   "execution_count": null,
   "metadata": {},
   "outputs": [],
   "source": []
  },
  {
   "cell_type": "code",
   "execution_count": null,
   "metadata": {},
   "outputs": [],
   "source": []
  }
 ],
 "metadata": {
  "kernelspec": {
   "display_name": "Python 3",
   "language": "python",
   "name": "python3"
  },
  "language_info": {
   "codemirror_mode": {
    "name": "ipython",
    "version": 3
   },
   "file_extension": ".py",
   "mimetype": "text/x-python",
   "name": "python",
   "nbconvert_exporter": "python",
   "pygments_lexer": "ipython3",
   "version": "3.6.5"
  }
 },
 "nbformat": 4,
 "nbformat_minor": 2
}
