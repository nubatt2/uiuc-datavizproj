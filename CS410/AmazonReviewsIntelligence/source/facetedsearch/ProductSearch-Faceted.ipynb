{
 "cells": [
  {
   "cell_type": "markdown",
   "metadata": {},
   "source": [
    "### Faceted Product Search\n",
    "This is a demo of product search scenario based on facets (topics) mined from Amazon reviews.<br/>\n",
    "\n",
    "Following demo is based on topic modeling and indexing a subset of data from the following dataset <br/>\n",
    "https://s3.amazonaws.com/amazon-reviews-pds/tsv/amazon_reviews_us_Electronics_v1_00.tsv.gz\n",
    "\n",
    "This demo uses metapy library to build, host & query from inverted index <br/>\n",
    "[https://github.com/meta-toolkit/metapy](https://github.com/meta-toolkit/metapy)"
   ]
  },
  {
   "cell_type": "code",
   "execution_count": 137,
   "metadata": {},
   "outputs": [],
   "source": [
    "import pandas as pd\n",
    "\n",
    "import metapy\n",
    "import pytoml\n",
    "import re"
   ]
  },
  {
   "cell_type": "markdown",
   "metadata": {},
   "source": [
    "### Build Index\n",
    "- We indexed mined topics, goal is to do faceted search. instead of title search\n",
    "- Uses inbuilt BM25 ranker using default hyper parameters"
   ]
  },
  {
   "cell_type": "code",
   "execution_count": 138,
   "metadata": {},
   "outputs": [],
   "source": [
    "config_file = 'config.toml'\n",
    "index = metapy.index.make_inverted_index(config_file)\n",
    "\n",
    "# user Bm25 ranker, with optional hyper params\n",
    "ranker = metapy.index.OkapiBM25()"
   ]
  },
  {
   "cell_type": "markdown",
   "metadata": {},
   "source": [
    "### Load Product metadata from sentiments feed"
   ]
  },
  {
   "cell_type": "code",
   "execution_count": 139,
   "metadata": {},
   "outputs": [],
   "source": [
    "product_meta = pd.read_json('../../data/product_sentiments.product_aggregated.slim.json')"
   ]
  },
  {
   "cell_type": "markdown",
   "metadata": {},
   "source": [
    "### Methods to perform search\n",
    "Helper method to search index, get product_ids and do lookup to get product title etc."
   ]
  },
  {
   "cell_type": "code",
   "execution_count": 140,
   "metadata": {},
   "outputs": [],
   "source": [
    "def QueryIndex(index_query, max_results = 50):\n",
    "    '''\n",
    "    Queries the given index and returns product Ids.\n",
    "    Uses basic BM25 ranker with default parameters.\n",
    "    '''\n",
    "    top_docs = ranker.score(index, index_query, num_results=max_results)\n",
    "\n",
    "    # collect product_ids\n",
    "    result_productids = []\n",
    "    for num, (d_id, _) in enumerate(top_docs):\n",
    "        content = index.metadata(d_id).get('content')\n",
    "        if content is not None:\n",
    "            product_id = re.split(r'\\t+', content)[0]\n",
    "            result_productids.append(product_id)\n",
    "    return result_productids"
   ]
  },
  {
   "cell_type": "code",
   "execution_count": 141,
   "metadata": {},
   "outputs": [],
   "source": [
    "def GetDocumentContent(result_productids):\n",
    "    '''\n",
    "    returns document meta-data like product title for the ids returned by index query.\n",
    "    '''\n",
    "    search_results = pd.DataFrame(columns=['product_id','product_title'])\n",
    "\n",
    "    for product in result_productids:\n",
    "        product_id = str(product)\n",
    "        found_df = product_meta[product_meta['product_id'] == product_id][['product_id', 'product_title']]\n",
    "        if found_df.shape[0] > 0:\n",
    "            search_results.append(found_df[['product_id', 'product_title']])\n",
    "            search_results = pd.concat([search_results, found_df])\n",
    "\n",
    "    return search_results"
   ]
  },
  {
   "cell_type": "code",
   "execution_count": 142,
   "metadata": {},
   "outputs": [],
   "source": [
    "def PerformSearch(search_query):\n",
    "    '''\n",
    "    main driver method for searchign the index.\n",
    "    '''\n",
    "    if not search_query.strip():\n",
    "        print (\"Please enter a valid query\")\n",
    "        return\n",
    "    else:\n",
    "        index_query = metapy.index.Document()\n",
    "        index_query.content(search_query)\n",
    "        \n",
    "        product_ids_from_index = QueryIndex(index_query)\n",
    "        search_content = GetDocumentContent(product_ids_from_index)\n",
    "        \n",
    "    return search_content"
   ]
  },
  {
   "cell_type": "markdown",
   "metadata": {},
   "source": [
    "### Issues queries to index and see the results"
   ]
  },
  {
   "cell_type": "code",
   "execution_count": 143,
   "metadata": {},
   "outputs": [
    {
     "data": {
      "text/html": [
       "<div>\n",
       "<style scoped>\n",
       "    .dataframe tbody tr th:only-of-type {\n",
       "        vertical-align: middle;\n",
       "    }\n",
       "\n",
       "    .dataframe tbody tr th {\n",
       "        vertical-align: top;\n",
       "    }\n",
       "\n",
       "    .dataframe thead th {\n",
       "        text-align: right;\n",
       "    }\n",
       "</style>\n",
       "<table border=\"1\" class=\"dataframe\">\n",
       "  <thead>\n",
       "    <tr style=\"text-align: right;\">\n",
       "      <th></th>\n",
       "      <th>product_id</th>\n",
       "      <th>product_title</th>\n",
       "    </tr>\n",
       "  </thead>\n",
       "  <tbody>\n",
       "    <tr>\n",
       "      <th>304</th>\n",
       "      <td>B00EWJHRMY</td>\n",
       "      <td>Bose QuietComfort 15 Acoustic Noise Cancelling Headphones - Limited Edition (Discontinued by Manufacturer)</td>\n",
       "    </tr>\n",
       "    <tr>\n",
       "      <th>232</th>\n",
       "      <td>B0094S36RI</td>\n",
       "      <td>Logitech 982-000079 UE 6000 Headphones</td>\n",
       "    </tr>\n",
       "    <tr>\n",
       "      <th>40</th>\n",
       "      <td>B000GFDC7C</td>\n",
       "      <td>Bose? QuietComfort? 3 Acoustic Noise Cancelling? Headphones</td>\n",
       "    </tr>\n",
       "    <tr>\n",
       "      <th>397</th>\n",
       "      <td>B00M1NEUA0</td>\n",
       "      <td>Bose QuietComfort 25 Headphones (wired, 3.5mm)</td>\n",
       "    </tr>\n",
       "    <tr>\n",
       "      <th>268</th>\n",
       "      <td>B00BSXRBGE</td>\n",
       "      <td>NoiseHush Active Noise-Cancelling Over-Ear Headphones - Black / Silver</td>\n",
       "    </tr>\n",
       "    <tr>\n",
       "      <th>444</th>\n",
       "      <td>B00QPHW63G</td>\n",
       "      <td>Symphonized NRG Premium Genuine Wood In-ear Noise-isolating Headphones|Earbuds|Earphones with Microphone</td>\n",
       "    </tr>\n",
       "    <tr>\n",
       "      <th>56</th>\n",
       "      <td>B000VWOL3O</td>\n",
       "      <td>Zune Premium Headphones for Zune 4GB</td>\n",
       "    </tr>\n",
       "    <tr>\n",
       "      <th>339</th>\n",
       "      <td>B00I0SCD72</td>\n",
       "      <td>Sennheiser Pro Headphones</td>\n",
       "    </tr>\n",
       "    <tr>\n",
       "      <th>355</th>\n",
       "      <td>B00IUICOR6</td>\n",
       "      <td>Bose SoundTrue Headphones Around-Ear Style</td>\n",
       "    </tr>\n",
       "    <tr>\n",
       "      <th>453</th>\n",
       "      <td>B00SN858RG</td>\n",
       "      <td>Sentey LS-4420 Warp Black/Red Headphones with Stereo High Definition, Over-Ear, Detachable Audio Cable 3.5mm, Foldable Headphone, Powerful Bass and Carrying Bag Included.</td>\n",
       "    </tr>\n",
       "  </tbody>\n",
       "</table>\n",
       "</div>"
      ],
      "text/plain": [
       "     product_id  \\\n",
       "304  B00EWJHRMY   \n",
       "232  B0094S36RI   \n",
       "40   B000GFDC7C   \n",
       "397  B00M1NEUA0   \n",
       "268  B00BSXRBGE   \n",
       "444  B00QPHW63G   \n",
       "56   B000VWOL3O   \n",
       "339  B00I0SCD72   \n",
       "355  B00IUICOR6   \n",
       "453  B00SN858RG   \n",
       "\n",
       "                                                                                                                                                                  product_title  \n",
       "304  Bose QuietComfort 15 Acoustic Noise Cancelling Headphones - Limited Edition (Discontinued by Manufacturer)                                                                  \n",
       "232  Logitech 982-000079 UE 6000 Headphones                                                                                                                                      \n",
       "40   Bose? QuietComfort? 3 Acoustic Noise Cancelling? Headphones                                                                                                                 \n",
       "397  Bose QuietComfort 25 Headphones (wired, 3.5mm)                                                                                                                              \n",
       "268  NoiseHush Active Noise-Cancelling Over-Ear Headphones - Black / Silver                                                                                                      \n",
       "444  Symphonized NRG Premium Genuine Wood In-ear Noise-isolating Headphones|Earbuds|Earphones with Microphone                                                                    \n",
       "56   Zune Premium Headphones for Zune 4GB                                                                                                                                        \n",
       "339  Sennheiser Pro Headphones                                                                                                                                                   \n",
       "355  Bose SoundTrue Headphones Around-Ear Style                                                                                                                                  \n",
       "453  Sentey LS-4420 Warp Black/Red Headphones with Stereo High Definition, Over-Ear, Detachable Audio Cable 3.5mm, Foldable Headphone, Powerful Bass and Carrying Bag Included.  "
      ]
     },
     "execution_count": 143,
     "metadata": {},
     "output_type": "execute_result"
    }
   ],
   "source": [
    "pd.set_option('display.max_colwidth', -1)\n",
    "\n",
    "sample_query = \"best noise cancelling head phones\"\n",
    "#sample_query = \"music player with good battery\"\n",
    "#sample_query = \"durable charging cables\"\n",
    "#sample_query = \"     \"\n",
    "\n",
    "search_results = PerformSearch(sample_query)\n",
    "search_results"
   ]
  }
 ],
 "metadata": {
  "kernelspec": {
   "display_name": "Python 3",
   "language": "python",
   "name": "python3"
  },
  "language_info": {
   "codemirror_mode": {
    "name": "ipython",
    "version": 3
   },
   "file_extension": ".py",
   "mimetype": "text/x-python",
   "name": "python",
   "nbconvert_exporter": "python",
   "pygments_lexer": "ipython3",
   "version": "3.6.5"
  }
 },
 "nbformat": 4,
 "nbformat_minor": 2
}
