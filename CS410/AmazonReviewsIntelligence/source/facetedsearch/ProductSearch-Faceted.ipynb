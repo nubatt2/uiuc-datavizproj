{
 "cells": [
  {
   "cell_type": "markdown",
   "metadata": {},
   "source": [
    "### Faceted Product Search\n",
    "This is a demo of product search scenario based on facets (topics) mined from Amazon reviews.<br/>\n",
    "\n",
    "Following demo is based on topic modeling and indexing a subset of data from the following dataset <br/>\n",
    "https://s3.amazonaws.com/amazon-reviews-pds/tsv/amazon_reviews_us_Electronics_v1_00.tsv.gz\n",
    "\n",
    "This demo used metapy library to build, host & query from inverted index <br/>\n",
    "[https://github.com/meta-toolkit/metapy](https://github.com/meta-toolkit/metapy)"
   ]
  },
  {
   "cell_type": "code",
   "execution_count": 118,
   "metadata": {},
   "outputs": [],
   "source": [
    "import pandas as pd\n",
    "\n",
    "import metapy\n",
    "import pytoml\n",
    "import re"
   ]
  },
  {
   "cell_type": "markdown",
   "metadata": {},
   "source": [
    "### Build Index\n",
    "- We indexed mined topics, goal is to do faceted search. instead of title search\n",
    "- Uses inbuilt BM25 ranker using default hyper parameters"
   ]
  },
  {
   "cell_type": "code",
   "execution_count": 119,
   "metadata": {},
   "outputs": [],
   "source": [
    "config_file = 'config.toml'\n",
    "index = metapy.index.make_inverted_index(config_file)\n",
    "\n",
    "# user Bm25 ranker, with optional hyper params\n",
    "ranker = metapy.index.OkapiBM25()"
   ]
  },
  {
   "cell_type": "markdown",
   "metadata": {},
   "source": [
    "### Load Product metadata from sentiments feed"
   ]
  },
  {
   "cell_type": "code",
   "execution_count": 120,
   "metadata": {},
   "outputs": [],
   "source": [
    "product_meta = pd.read_json('../../data/product_sentiments.product_aggregated.slim.json')"
   ]
  },
  {
   "cell_type": "markdown",
   "metadata": {},
   "source": [
    "### Methods to perform search\n",
    "Helper method to search index, get product_ids and do lookup to get product title etc."
   ]
  },
  {
   "cell_type": "code",
   "execution_count": 125,
   "metadata": {},
   "outputs": [],
   "source": [
    "def QueryIndex(index_query, max_results = 50):\n",
    "    '''\n",
    "    Queries the given index and returns product Ids.\n",
    "    Uses basic BM25 ranker with default parameters.\n",
    "    '''\n",
    "    top_docs = ranker.score(index, index_query, num_results=max_results)\n",
    "\n",
    "    # collect product_ids\n",
    "    result_productids = []\n",
    "    for num, (d_id, _) in enumerate(top_docs):\n",
    "        content = index.metadata(d_id).get('content')\n",
    "        if content is not None:\n",
    "            product_id = re.split(r'\\t+', content)[0]\n",
    "            result_productids.append(product_id)\n",
    "    return result_productids"
   ]
  },
  {
   "cell_type": "code",
   "execution_count": 126,
   "metadata": {},
   "outputs": [],
   "source": [
    "def GetDocumentContent(result_productids):\n",
    "    '''\n",
    "    returns document meta-data like product title for the ids returned by index query.\n",
    "    '''\n",
    "    search_results = pd.DataFrame(columns=['product_id','product_title'])\n",
    "\n",
    "    for product in result_productids:\n",
    "        product_id = str(product)\n",
    "        found_df = product_meta[product_meta['product_id'] == product_id][['product_id', 'product_title']]\n",
    "        if found_df.shape[0] > 0:\n",
    "            search_results.append(found_df[['product_id', 'product_title']])\n",
    "            search_results = pd.concat([search_results, found_df])\n",
    "\n",
    "    return search_results"
   ]
  },
  {
   "cell_type": "code",
   "execution_count": 132,
   "metadata": {},
   "outputs": [],
   "source": [
    "def PerformSearch(search_query):\n",
    "    '''\n",
    "    main driver method for searchign the index.\n",
    "    '''\n",
    "    if not search_query.strip():\n",
    "        print (\"Please enter a valid query\")\n",
    "        return\n",
    "    else:\n",
    "        index_query = metapy.index.Document()\n",
    "        index_query.content(search_query)\n",
    "        \n",
    "        product_ids_from_index = QueryIndex(index_query)\n",
    "        search_content = GetDocumentContent(product_ids_from_index)\n",
    "        \n",
    "    return search_content"
   ]
  },
  {
   "cell_type": "markdown",
   "metadata": {},
   "source": [
    "### Issues queries to index and see the results"
   ]
  },
  {
   "cell_type": "code",
   "execution_count": 135,
   "metadata": {},
   "outputs": [
    {
     "name": "stdout",
     "output_type": "stream",
     "text": [
      "Please enter a valid query\n"
     ]
    }
   ],
   "source": [
    "pd.set_option('display.max_colwidth', -1)\n",
    "\n",
    "#sample_query = \"best noise cancelling head phones\"\n",
    "#sample_query = \"music player with good battery\"\n",
    "#sample_query = \"durable charging cables\"\n",
    "sample_query = \"     \"\n",
    "\n",
    "search_results = PerformSearch(sample_query)\n",
    "search_results"
   ]
  },
  {
   "cell_type": "code",
   "execution_count": null,
   "metadata": {},
   "outputs": [],
   "source": []
  }
 ],
 "metadata": {
  "kernelspec": {
   "display_name": "Python 3",
   "language": "python",
   "name": "python3"
  },
  "language_info": {
   "codemirror_mode": {
    "name": "ipython",
    "version": 3
   },
   "file_extension": ".py",
   "mimetype": "text/x-python",
   "name": "python",
   "nbconvert_exporter": "python",
   "pygments_lexer": "ipython3",
   "version": "3.6.5"
  }
 },
 "nbformat": 4,
 "nbformat_minor": 2
}
